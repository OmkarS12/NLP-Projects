{
 "cells": [
  {
   "cell_type": "code",
   "execution_count": 1,
   "id": "5117c635",
   "metadata": {},
   "outputs": [
    {
     "name": "stderr",
     "output_type": "stream",
     "text": [
      "[nltk_data] Downloading package wordnet to\n",
      "[nltk_data]     /Users/omkarsadekar/nltk_data...\n",
      "[nltk_data]   Package wordnet is already up-to-date!\n",
      "[nltk_data] Downloading package omw-1.4 to\n",
      "[nltk_data]     /Users/omkarsadekar/nltk_data...\n",
      "[nltk_data]   Package omw-1.4 is already up-to-date!\n"
     ]
    }
   ],
   "source": [
    "import pandas as pd\n",
    "import numpy as np\n",
    "import nltk\n",
    "from nltk.corpus import stopwords\n",
    "import matplotlib.pyplot as plt\n",
    "import seaborn as sns\n",
    "from wordcloud import WordCloud\n",
    "from sklearn.feature_extraction.text import CountVectorizer\n",
    "from sklearn.decomposition import LatentDirichletAllocation\n",
    "import gensim"
   ]
  },
  {
   "cell_type": "code",
   "execution_count": 2,
   "id": "89224c5b",
   "metadata": {},
   "outputs": [],
   "source": [
    "df = pd.read_csv('Reviews.csv')"
   ]
  },
  {
   "cell_type": "code",
   "execution_count": 3,
   "id": "a25ea0d6",
   "metadata": {},
   "outputs": [],
   "source": [
    "df = df.loc[(df['Score'] > 2) & (df['Id'] < 15000)]"
   ]
  },
  {
   "cell_type": "code",
   "execution_count": 4,
   "id": "94741dd7",
   "metadata": {},
   "outputs": [
    {
     "name": "stderr",
     "output_type": "stream",
     "text": [
      "[nltk_data] Downloading package stopwords to\n",
      "[nltk_data]     /Users/omkarsadekar/nltk_data...\n",
      "[nltk_data]   Package stopwords is already up-to-date!\n"
     ]
    }
   ],
   "source": [
    "# Cleaning the text data\n",
    "nltk.download('stopwords')\n",
    "stop_words = set(stopwords.words('english'))"
   ]
  },
  {
   "cell_type": "code",
   "execution_count": 5,
   "id": "620bacb2",
   "metadata": {},
   "outputs": [],
   "source": [
    "# Preprocessing the text data\n",
    "def preprocess_text(text):\n",
    "    # Convert text to lowercase\n",
    "    text = text.lower()\n",
    "    # Tokenize the text into individual words\n",
    "    words = nltk.word_tokenize(text)\n",
    "    # Remove stopwords\n",
    "    words = [word for word in words if word not in stop_words]\n",
    "    # Remove non-alphabetic characters\n",
    "    words = [word for word in words if word.isalpha()]\n",
    "    # Lemmatize words\n",
    "    lemmatizer = nltk.stem.WordNetLemmatizer()\n",
    "    words = [lemmatizer.lemmatize(word) for word in words]\n",
    "    # Join the words back into a single string\n",
    "    text = ' '.join(words)\n",
    "    return text"
   ]
  },
  {
   "cell_type": "code",
   "execution_count": 6,
   "id": "e58e223e",
   "metadata": {},
   "outputs": [],
   "source": [
    "# Applying preprocessing to the review text\n",
    "df['clean_text'] = df['Text'].apply(preprocess_text)"
   ]
  },
  {
   "cell_type": "code",
   "execution_count": 7,
   "id": "5bd4d48f",
   "metadata": {},
   "outputs": [],
   "source": [
    "# Combine all the reviews into a single string\n",
    "all_text = ' '.join(df['clean_text'].tolist())"
   ]
  },
  {
   "cell_type": "code",
   "execution_count": 14,
   "id": "be4b5ea4",
   "metadata": {},
   "outputs": [],
   "source": [
    "# Perform topic modeling using LDA\n",
    "vectorizer = CountVectorizer(max_features=1000, lowercase=True, stop_words='english')\n",
    "data_vectorized = vectorizer.fit_transform(df['clean_text'])"
   ]
  },
  {
   "cell_type": "code",
   "execution_count": 15,
   "id": "e45293d5",
   "metadata": {},
   "outputs": [
    {
     "data": {
      "text/plain": [
       "LatentDirichletAllocation(n_components=5, random_state=42)"
      ]
     },
     "execution_count": 15,
     "metadata": {},
     "output_type": "execute_result"
    }
   ],
   "source": [
    "lda_model = LatentDirichletAllocation(n_components=5, random_state=42)\n",
    "lda_model.fit(data_vectorized)"
   ]
  },
  {
   "cell_type": "code",
   "execution_count": 16,
   "id": "aaef3285",
   "metadata": {},
   "outputs": [
    {
     "name": "stderr",
     "output_type": "stream",
     "text": [
      "/Users/omkarsadekar/opt/anaconda3/lib/python3.9/site-packages/sklearn/utils/deprecation.py:87: FutureWarning: Function get_feature_names is deprecated; get_feature_names is deprecated in 1.0 and will be removed in 1.2. Please use get_feature_names_out instead.\n",
      "  warnings.warn(msg, category=FutureWarning)\n"
     ]
    }
   ],
   "source": [
    "# Display the top words for each topic\n",
    "words = vectorizer.get_feature_names()\n",
    "topic_keywords = []\n",
    "\n",
    "for topic_weights in lda_model.components_:\n",
    "    top_keywords = [words[index] for index in topic_weights.argsort()[:-6:-1]]\n",
    "    topic_keywords.append(top_keywords)\n",
    "\n",
    "topic_keywords_df = pd.DataFrame(topic_keywords)\n",
    "topic_keywords_df.columns = ['Word 1', 'Word 2', 'Word 3', 'Word 4', 'Word 5']\n",
    "topic_keywords_df.index = ['Topic 1', 'Topic 2', 'Topic 3', 'Topic 4', 'Topic 5']"
   ]
  },
  {
   "cell_type": "code",
   "execution_count": 17,
   "id": "8d061c40",
   "metadata": {},
   "outputs": [
    {
     "data": {
      "application/vnd.jupyter.widget-view+json": {
       "model_id": "c0268fa25ff64ee185e82b474dc2416e",
       "version_major": 2,
       "version_minor": 0
      },
      "text/plain": [
       "VBox(children=(HTML(value='<div class=\"bamboolib-notification bamboolib-notification-info\"><b>Pro Tip:</b> sav…"
      ]
     },
     "metadata": {},
     "output_type": "display_data"
    }
   ],
   "source": [
    "# Display the topic keywords using bamboolib\n",
    "\n",
    "topic_keywords_df = topic_keywords_df.reset_index()\n",
    "topic_keywords_df"
   ]
  },
  {
   "cell_type": "code",
   "execution_count": null,
   "id": "30771fd1",
   "metadata": {},
   "outputs": [],
   "source": []
  },
  {
   "cell_type": "code",
   "execution_count": null,
   "id": "bbc45466",
   "metadata": {},
   "outputs": [],
   "source": []
  },
  {
   "cell_type": "code",
   "execution_count": null,
   "id": "7ff7810f",
   "metadata": {},
   "outputs": [],
   "source": []
  }
 ],
 "metadata": {
  "kernelspec": {
   "display_name": "Python 3 (ipykernel)",
   "language": "python",
   "name": "python3"
  },
  "language_info": {
   "codemirror_mode": {
    "name": "ipython",
    "version": 3
   },
   "file_extension": ".py",
   "mimetype": "text/x-python",
   "name": "python",
   "nbconvert_exporter": "python",
   "pygments_lexer": "ipython3",
   "version": "3.9.12"
  }
 },
 "nbformat": 4,
 "nbformat_minor": 5
}
