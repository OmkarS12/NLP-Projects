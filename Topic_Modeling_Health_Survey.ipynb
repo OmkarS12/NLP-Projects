{
 "cells": [
  {
   "cell_type": "markdown",
   "id": "cf47aa4b",
   "metadata": {},
   "source": [
    "# NLP - Topic Modeling for Health Survey Data\n",
    "EAI 6000 - M6 Assignment\n",
    "By Omkar Sadekar"
   ]
  },
  {
   "cell_type": "code",
   "execution_count": 39,
   "id": "ee7f8ffb",
   "metadata": {},
   "outputs": [],
   "source": [
    "#Importing Required Libraries\n",
    "import bamboolib as bam \n",
    "import pandas as pd \n",
    "import matplotlib.pyplot as plt\n",
    "import numpy as np\n",
    "import seaborn as sns\n",
    "\n",
    "y=pd.read_csv(r'medquad.csv')"
   ]
  },
  {
   "cell_type": "code",
   "execution_count": 42,
   "id": "4acb151c",
   "metadata": {},
   "outputs": [
    {
     "data": {
      "application/vnd.jupyter.widget-view+json": {
       "model_id": "65fb2a5dc96842238f3de7c9fbe2a965"
      },
      "text/plain": [
       "                                             question  \\\n",
       "0                            What is (are) Glaucoma ?   \n",
       "1                              What causes Glaucoma ?   \n",
       "2                 What are the symptoms of Glaucoma ?   \n",
       "3              What are the treatments for Glaucoma ?   \n",
       "4                            What is (are) Glaucoma ?   \n",
       "5                            What is (are) Glaucoma ?   \n",
       "6                            What is (are) Glaucoma ?   \n",
       "7                      Who is at risk for Glaucoma? ?   \n",
       "8                           How to prevent Glaucoma ?   \n",
       "9                 What are the symptoms of Glaucoma ?   \n",
       "10             What are the treatments for Glaucoma ?   \n",
       "11  what research (or clinical trials) is being do...   \n",
       "12                     Who is at risk for Glaucoma? ?   \n",
       "13                           What is (are) Glaucoma ?   \n",
       "14                What is (are) High Blood Pressure ?   \n",
       "15                  What causes High Blood Pressure ?   \n",
       "16          Who is at risk for High Blood Pressure? ?   \n",
       "17               How to prevent High Blood Pressure ?   \n",
       "18     What are the symptoms of High Blood Pressure ?   \n",
       "19                What is (are) High Blood Pressure ?   \n",
       "20                What is (are) High Blood Pressure ?   \n",
       "21                What is (are) High Blood Pressure ?   \n",
       "22                What is (are) High Blood Pressure ?   \n",
       "23               How to prevent High Blood Pressure ?   \n",
       "24              How to diagnose High Blood Pressure ?   \n",
       "25  What are the treatments for High Blood Pressure ?   \n",
       "26  What are the treatments for High Blood Pressure ?   \n",
       "27  What are the treatments for High Blood Pressure ?   \n",
       "28               How to prevent High Blood Pressure ?   \n",
       "29                What is (are) High Blood Pressure ?   \n",
       "\n",
       "                                               answer           source  \\\n",
       "0   Glaucoma is a group of diseases that can damag...  NIHSeniorHealth   \n",
       "1   Nearly 2.7 million people have glaucoma, a lea...  NIHSeniorHealth   \n",
       "2   Symptoms of Glaucoma  Glaucoma can develop in ...  NIHSeniorHealth   \n",
       "3   Although open-angle glaucoma cannot be cured, ...  NIHSeniorHealth   \n",
       "4   Glaucoma is a group of diseases that can damag...  NIHSeniorHealth   \n",
       "5   The optic nerve is a bundle of more than 1 mil...  NIHSeniorHealth   \n",
       "6   Open-angle glaucoma is the most common form of...  NIHSeniorHealth   \n",
       "7   Anyone can develop glaucoma. Some people are a...  NIHSeniorHealth   \n",
       "8   At this time, we do not know how to prevent gl...  NIHSeniorHealth   \n",
       "9   At first, open-angle glaucoma has no symptoms....  NIHSeniorHealth   \n",
       "10  Yes. Immediate treatment for early stage, open...  NIHSeniorHealth   \n",
       "11  Through studies in the laboratory and with pat...  NIHSeniorHealth   \n",
       "12  Encourage them to have a comprehensive dilated...  NIHSeniorHealth   \n",
       "13  National Eye Institute  National Institutes of...  NIHSeniorHealth   \n",
       "14  High blood pressure is a common disease in whi...  NIHSeniorHealth   \n",
       "15  Changes in Body Functions Researchers continue...  NIHSeniorHealth   \n",
       "16  Not a Normal Part of Aging Nearly 1 in 3 Ameri...  NIHSeniorHealth   \n",
       "17  Steps You Can Take You can take steps to preve...  NIHSeniorHealth   \n",
       "18  High blood pressure is often called the \"silen...  NIHSeniorHealth   \n",
       "19  Blood pressure is the force of blood pushing a...  NIHSeniorHealth   \n",
       "20  Normal blood pressure for adults is defined as...  NIHSeniorHealth   \n",
       "21  High blood pressure is a common disease in whi...  NIHSeniorHealth   \n",
       "22  Abnormal blood pressure is higher than 120/80 ...  NIHSeniorHealth   \n",
       "23  You can take steps to help prevent high blood ...  NIHSeniorHealth   \n",
       "24  If you are diagnosed with high blood pressure,...  NIHSeniorHealth   \n",
       "25  High blood pressure is treated with lifestyle ...  NIHSeniorHealth   \n",
       "26  In most cases, the goal is probably to keep yo...  NIHSeniorHealth   \n",
       "27  Today, many different types of medicines are a...  NIHSeniorHealth   \n",
       "28  Two key measures are used to determine if some...  NIHSeniorHealth   \n",
       "29  Blood pressure rises as body weight increases....  NIHSeniorHealth   \n",
       "\n",
       "             focus_area  \n",
       "0              Glaucoma  \n",
       "1              Glaucoma  \n",
       "2              Glaucoma  \n",
       "3              Glaucoma  \n",
       "4              Glaucoma  \n",
       "5              Glaucoma  \n",
       "6              Glaucoma  \n",
       "7              Glaucoma  \n",
       "8              Glaucoma  \n",
       "9              Glaucoma  \n",
       "10             Glaucoma  \n",
       "11             Glaucoma  \n",
       "12             Glaucoma  \n",
       "13             Glaucoma  \n",
       "14  High Blood Pressure  \n",
       "15  High Blood Pressure  \n",
       "16  High Blood Pressure  \n",
       "17  High Blood Pressure  \n",
       "18  High Blood Pressure  \n",
       "19  High Blood Pressure  \n",
       "20  High Blood Pressure  \n",
       "21  High Blood Pressure  \n",
       "22  High Blood Pressure  \n",
       "23  High Blood Pressure  \n",
       "24  High Blood Pressure  \n",
       "25  High Blood Pressure  \n",
       "26  High Blood Pressure  \n",
       "27  High Blood Pressure  \n",
       "28  High Blood Pressure  \n",
       "29  High Blood Pressure  "
      ]
     },
     "metadata": {},
     "output_type": "display_data"
    }
   ],
   "source": [
    "y.head(30)"
   ]
  },
  {
   "cell_type": "code",
   "execution_count": 17,
   "id": "09e36ec3",
   "metadata": {},
   "outputs": [],
   "source": [
    "df = y.dropna()"
   ]
  },
  {
   "cell_type": "code",
   "execution_count": 18,
   "id": "781e69e5",
   "metadata": {},
   "outputs": [
    {
     "name": "stderr",
     "output_type": "stream",
     "text": [
      "[nltk_data] Downloading package punkt to\n",
      "[nltk_data]     /Users/omkarsadekar/nltk_data...\n",
      "[nltk_data]   Package punkt is already up-to-date!\n",
      "[nltk_data] Downloading package averaged_perceptron_tagger to\n",
      "[nltk_data]     /Users/omkarsadekar/nltk_data...\n",
      "[nltk_data]   Package averaged_perceptron_tagger is already up-to-\n",
      "[nltk_data]       date!\n"
     ]
    }
   ],
   "source": [
    "from nltk.corpus import stopwords\n",
    "import nltk\n",
    "nltk.download('punkt')\n",
    "nltk.download('averaged_perceptron_tagger') \n",
    "import string\n",
    "from nltk import word_tokenize, pos_tag"
   ]
  },
  {
   "cell_type": "code",
   "execution_count": 23,
   "id": "6bb7ad19",
   "metadata": {},
   "outputs": [],
   "source": [
    "def nouns(text):\n",
    "    '''Given a string of text, tokenize the text and pull out only the nouns.'''\n",
    "    is_noun = lambda pos: pos[:2] == 'NN'\n",
    "    tokenized = word_tokenize(text)\n",
    "    all_nouns = [word for (word, pos) in pos_tag(tokenized) if is_noun(pos)] \n",
    "    return ' '.join(all_nouns)"
   ]
  },
  {
   "cell_type": "code",
   "execution_count": 20,
   "id": "9f9f168f",
   "metadata": {},
   "outputs": [],
   "source": [
    "data_nouns = pd.DataFrame(df.answer.apply(nouns))"
   ]
  },
  {
   "cell_type": "code",
   "execution_count": 28,
   "id": "1cf9ee25",
   "metadata": {},
   "outputs": [
    {
     "data": {
      "application/vnd.jupyter.widget-view+json": {
       "model_id": "8a192fb737dd4109bb6401249435c2a6"
      },
      "text/plain": [
       "                                                  answer\n",
       "0      Glaucoma group diseases eye nerve result visio...\n",
       "1      people cause blindness United States anyone gl...\n",
       "2      Symptoms Glaucoma Glaucoma eyes type glaucoma ...\n",
       "3      glaucoma treatments vision sight glaucoma trea...\n",
       "4      Glaucoma group diseases eye nerve result visio...\n",
       "...                                                  ...\n",
       "16407  Focal nerves head torso leg Focal neuropathy i...\n",
       "16408  way blood glucose levels range blood glucose l...\n",
       "16409  Doctors basis symptoms exam exam doctor blood ...\n",
       "16410  treatment step blood glucose levels range nerv...\n",
       "16411  Diabetic neuropathies disorders abnormalities ...\n",
       "\n",
       "[16393 rows x 1 columns]"
      ]
     },
     "metadata": {},
     "output_type": "display_data"
    }
   ],
   "source": [
    "data_nouns"
   ]
  },
  {
   "cell_type": "code",
   "execution_count": 25,
   "id": "ce21bcd4",
   "metadata": {},
   "outputs": [],
   "source": [
    "from sklearn.feature_extraction.text import ENGLISH_STOP_WORDS"
   ]
  },
  {
   "cell_type": "code",
   "execution_count": 26,
   "id": "0b7f1fd1",
   "metadata": {},
   "outputs": [],
   "source": [
    "\n",
    "# Re-add the additional stop words since we are recreating the document-term matrix\n",
    "add_stop_words = ['medical', 'patient', 'disease','treatment','symptoms','condition','healthcare','hospital','doctor','nurse','medication','diagnosis','surgery','laboratory','research''study','journal','clinical','trial','therapy','intervention','outcome','prognosis','chronic','acute']\n",
    "stop_words = ENGLISH_STOP_WORDS.union(add_stop_words)\n"
   ]
  },
  {
   "cell_type": "code",
   "execution_count": 27,
   "id": "038e45a9",
   "metadata": {},
   "outputs": [],
   "source": [
    "from sklearn.feature_extraction import text\n",
    "from sklearn.feature_extraction.text import CountVectorizer\n",
    "\n",
    "cv = CountVectorizer(stop_words=stop_words)\n",
    "data_cv = cv.fit_transform(data_nouns.answer)\n",
    "data_dtmn = pd.DataFrame(data_cv.toarray(), columns=cv.get_feature_names())\n",
    "data_dtmn.index = data_nouns.index\n"
   ]
  },
  {
   "cell_type": "code",
   "execution_count": 30,
   "id": "63322099",
   "metadata": {},
   "outputs": [],
   "source": [
    "from gensim import matutils, models\n",
    "import scipy.sparse\n"
   ]
  },
  {
   "cell_type": "code",
   "execution_count": 31,
   "id": "94962597",
   "metadata": {},
   "outputs": [],
   "source": [
    "# Create the gensim corpus\n",
    "corpusn = matutils.Sparse2Corpus(scipy.sparse.csr_matrix(data_dtmn.transpose()))\n",
    "\n",
    "# Create the vocabulary dictionary\n",
    "id2wordn = dict((v, k) for k, v in cv.vocabulary_.items())"
   ]
  },
  {
   "cell_type": "code",
   "execution_count": 37,
   "id": "e2ced6b5",
   "metadata": {},
   "outputs": [
    {
     "data": {
      "text/plain": [
       "[(0,\n",
       "  '0.036*\"gene\" + 0.020*\"syndrome\" + 0.018*\"cells\" + 0.018*\"mutations\" + 0.014*\"disorder\" + 0.014*\"cell\" + 0.013*\"cancer\" + 0.012*\"individuals\" + 0.011*\"protein\" + 0.010*\"people\"'),\n",
       " (1,\n",
       "  '0.031*\"blood\" + 0.017*\"health\" + 0.016*\"people\" + 0.014*\"care\" + 0.013*\"diabetes\" + 0.013*\"kidney\" + 0.010*\"body\" + 0.009*\"heart\" + 0.009*\"provider\" + 0.009*\"test\"'),\n",
       " (2,\n",
       "  '0.038*\"people\" + 0.038*\"symptom\" + 0.027*\"number\" + 0.026*\"information\" + 0.026*\"patients\" + 0.026*\"signs\" + 0.025*\"frequency\" + 0.020*\"sign\" + 0.019*\"study\" + 0.013*\"human\"')]"
      ]
     },
     "execution_count": 37,
     "metadata": {},
     "output_type": "execute_result"
    }
   ],
   "source": [
    "ldan = models.LdaModel(corpus=corpusn, num_topics=3, id2word=id2wordn, passes=10)\n",
    "ldan.print_topics()"
   ]
  },
  {
   "cell_type": "markdown",
   "id": "76e43ad7",
   "metadata": {},
   "source": [
    "\n",
    "Topic 0: Genetics and Mutations\n",
    "Keywords: gene, syndrome, cells, mutations, disorder, cell, cancer, individuals, protein, people\n",
    "\n",
    "This topic seems to be focused on genetic factors and mutations. It mentions genes, syndromes, cells, and mutations, indicating a discussion related to genetic disorders or diseases. The presence of terms like cancer and protein suggests a possible exploration of genetic links to cancer and related research. The topic also mentions individuals, indicating a potential focus on personalized medicine or genetic variations among people."
   ]
  },
  {
   "cell_type": "markdown",
   "id": "1fb801ef",
   "metadata": {},
   "source": [
    "Topic 1: Health Conditions and Medical Tests\n",
    "Keywords: blood, health, people, care, diabetes, kidney, body, heart, provider, test\n",
    "\n",
    "This topic revolves around health conditions and medical tests. The keyword blood suggests a focus on blood-related health issues or blood tests. Terms like diabetes, kidney, and heart indicate discussions related to specific health conditions. The presence of keywords like care and provider suggests a consideration of healthcare services or healthcare providers. Overall, this topic seems to cover a broad range of health-related topics.\n",
    "\n",
    "Topic 2: Symptoms and Patient Studies\n",
    "Keywords: people, symptom, number, information, patients, signs, frequency, sign, study, human\n",
    "\n",
    "This topic centers around symptoms and patient studies. The keyword people suggests a focus on how symptoms or conditions affect individuals. The presence of terms like symptom, signs, and frequency indicates a discussion about the manifestation and frequency of symptoms. The mention of patients and studies suggests a possible exploration of patient-centered research or clinical studies. The topic also includes keywords like information and human, indicating a broader consideration of various aspects related to symptoms and patient experiences.\n",
    "\n"
   ]
  },
  {
   "cell_type": "code",
   "execution_count": null,
   "id": "55d9d590",
   "metadata": {},
   "outputs": [],
   "source": []
  }
 ],
 "metadata": {
  "kernelspec": {
   "display_name": "Python 3 (ipykernel)",
   "language": "python",
   "name": "python3"
  },
  "language_info": {
   "codemirror_mode": {
    "name": "ipython",
    "version": 3
   },
   "file_extension": ".py",
   "mimetype": "text/x-python",
   "name": "python",
   "nbconvert_exporter": "python",
   "pygments_lexer": "ipython3",
   "version": "3.9.12"
  }
 },
 "nbformat": 4,
 "nbformat_minor": 5
}
